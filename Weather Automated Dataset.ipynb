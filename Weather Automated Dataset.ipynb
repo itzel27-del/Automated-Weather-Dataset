{
 "cells": [
  {
   "cell_type": "markdown",
   "id": "c454545c",
   "metadata": {},
   "source": [
    "# Weather Dataset automated\n"
   ]
  },
  {
   "cell_type": "code",
   "execution_count": 1,
   "id": "d2e9866e",
   "metadata": {},
   "outputs": [],
   "source": [
    "import requests\n",
    "from bs4 import BeautifulSoup as bf\n",
    "import csv\n",
    "import time\n",
    "import random\n",
    "import pandas as pd"
   ]
  },
  {
   "cell_type": "code",
   "execution_count": 2,
   "id": "de3fefd8",
   "metadata": {},
   "outputs": [],
   "source": [
    "def get_weather_data(place):\n",
    "    url = f\"https://www.google.com/search?q=weather+{place.replace(' ', '+')}\"\n",
    "    \n",
    "    headers= {\"User-Agent\": \"Mozilla/5.0 (Windows NT 10.0; Win64; x64) AppleWebKit/537.36 (KHTML, like Gecko) Chrome/126.0.0.0 Safari/537.36 Edg/126.0.0.0\"}\n",
    "    r = requests.get(url, headers=headers)\n",
    "    soup = bf(r.content, \"html.parser\")\n",
    "    \n",
    "    try:\n",
    "        weather_data = {\n",
    "            \"Places\": place,\n",
    "            \"Temperature\": soup.find(\"span\", {\"id\": \"wob_tm\"}).text,\n",
    "            \"Precipitation\": soup.find(\"span\", {\"id\": \"wob_pp\"}).text,\n",
    "            \"Humidity\": soup.find(\"span\", {\"id\": \"wob_hm\"}).text,\n",
    "            \"Wind\": soup.find(\"span\", {\"id\": \"wob_ws\"}).text,\n",
    "            \"Weather\": soup.find(\"span\", {\"id\": \"wob_dc\"}).text\n",
    "        }\n",
    "    except AttributeError:\n",
    "        weather_data = {\n",
    "            \"places\": place,\n",
    "            \"Temperature\": \"N/A\",\n",
    "            \"Precipitation\": \"N/A\",\n",
    "            \"Humidity\": \"N/A\",\n",
    "            \"Wind\": \"N/A\",\n",
    "            \"Weather\": \"N/A\"\n",
    "        }\n",
    "\n",
    "    return weather_data\n"
   ]
  },
  {
   "cell_type": "code",
   "execution_count": 3,
   "id": "7691a0ef",
   "metadata": {},
   "outputs": [],
   "source": [
    "def main():\n",
    "    num_locations = int(input(\"Enter the number of places: \"))\n",
    "    locations = [input(f\"Enter places {i+1}: \") for i in range(num_locations)]\n",
    "\n",
    "    weather_data_list = []\n",
    "    for location in locations:\n",
    "        weather_data_list.append(get_weather_data(location))\n",
    "\n",
    "    with open(\"weather_data.csv\", \"w\", newline=\"\") as csvfile:\n",
    "        fieldnames = [\"Places\", \"Temperature\", \"Precipitation\", \"Humidity\", \"Wind\", \"Weather\"]\n",
    "        writer = csv.DictWriter(csvfile, fieldnames=fieldnames)\n",
    "        writer.writeheader()\n",
    "        for data in weather_data_list:\n",
    "            writer.writerow(data)\n",
    "\n",
    "    print(\"Weather data saved to weather_data.csv\")"
   ]
  },
  {
   "cell_type": "code",
   "execution_count": 4,
   "id": "c12fedfa",
   "metadata": {
    "scrolled": true
   },
   "outputs": [
    {
     "name": "stdout",
     "output_type": "stream",
     "text": [
      "Enter the number of places: 2\n",
      "Enter places 1: jaipur\n",
      "Enter places 2: delhi\n",
      "Weather data saved to weather_data.csv\n"
     ]
    }
   ],
   "source": [
    "if __name__ == \"__main__\":\n",
    "    main()"
   ]
  },
  {
   "cell_type": "code",
   "execution_count": 5,
   "id": "e5f1c005",
   "metadata": {},
   "outputs": [],
   "source": [
    "wea = pd.read_csv(r'C:\\Users\\kigba\\weather_data.csv')"
   ]
  },
  {
   "cell_type": "code",
   "execution_count": 6,
   "id": "907a751c",
   "metadata": {},
   "outputs": [
    {
     "data": {
      "text/html": [
       "<div>\n",
       "<style scoped>\n",
       "    .dataframe tbody tr th:only-of-type {\n",
       "        vertical-align: middle;\n",
       "    }\n",
       "\n",
       "    .dataframe tbody tr th {\n",
       "        vertical-align: top;\n",
       "    }\n",
       "\n",
       "    .dataframe thead th {\n",
       "        text-align: right;\n",
       "    }\n",
       "</style>\n",
       "<table border=\"1\" class=\"dataframe\">\n",
       "  <thead>\n",
       "    <tr style=\"text-align: right;\">\n",
       "      <th></th>\n",
       "      <th>Places</th>\n",
       "      <th>Temperature</th>\n",
       "      <th>Precipitation</th>\n",
       "      <th>Humidity</th>\n",
       "      <th>Wind</th>\n",
       "      <th>Weather</th>\n",
       "    </tr>\n",
       "  </thead>\n",
       "  <tbody>\n",
       "    <tr>\n",
       "      <th>0</th>\n",
       "      <td>jaipur</td>\n",
       "      <td>34</td>\n",
       "      <td>0%</td>\n",
       "      <td>39%</td>\n",
       "      <td>13 km/h</td>\n",
       "      <td>Haze</td>\n",
       "    </tr>\n",
       "    <tr>\n",
       "      <th>1</th>\n",
       "      <td>delhi</td>\n",
       "      <td>34</td>\n",
       "      <td>1%</td>\n",
       "      <td>47%</td>\n",
       "      <td>8 km/h</td>\n",
       "      <td>Haze</td>\n",
       "    </tr>\n",
       "  </tbody>\n",
       "</table>\n",
       "</div>"
      ],
      "text/plain": [
       "   Places  Temperature Precipitation Humidity     Wind Weather\n",
       "0  jaipur           34            0%      39%  13 km/h    Haze\n",
       "1   delhi           34            1%      47%   8 km/h    Haze"
      ]
     },
     "execution_count": 6,
     "metadata": {},
     "output_type": "execute_result"
    }
   ],
   "source": [
    "wea"
   ]
  },
  {
   "cell_type": "code",
   "execution_count": null,
   "id": "d8c7ffe7",
   "metadata": {},
   "outputs": [],
   "source": []
  }
 ],
 "metadata": {
  "kernelspec": {
   "display_name": "Python 3 (ipykernel)",
   "language": "python",
   "name": "python3"
  },
  "language_info": {
   "codemirror_mode": {
    "name": "ipython",
    "version": 3
   },
   "file_extension": ".py",
   "mimetype": "text/x-python",
   "name": "python",
   "nbconvert_exporter": "python",
   "pygments_lexer": "ipython3",
   "version": "3.11.5"
  }
 },
 "nbformat": 4,
 "nbformat_minor": 5
}
